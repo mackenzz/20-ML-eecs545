{
 "cells": [
  {
   "cell_type": "markdown",
   "metadata": {},
   "source": [
    "### eecs545 homework 2\n",
    "Author: Zijin Zhang  \n",
    "UMID: 40703833"
   ]
  },
  {
   "cell_type": "markdown",
   "metadata": {},
   "source": [
    "### Question 2 -- Naive Bayes for Spam Filtering"
   ]
  },
  {
   "cell_type": "code",
   "execution_count": 218,
   "metadata": {},
   "outputs": [],
   "source": [
    "import numpy as np\n",
    "z = np.genfromtxt('spambase.data', dtype=float, delimiter=',')\n",
    "np.random.seed(0)  # Seed the random number generator\n",
    "rp = np.random.permutation(z.shape[0])  # random permutation of indices\n",
    "z = z[rp, :]  # shuffle the rows of z\n",
    "x = z[:, :-1]\n",
    "y = z[:, -1]"
   ]
  },
  {
   "cell_type": "code",
   "execution_count": 219,
   "metadata": {},
   "outputs": [],
   "source": [
    "# data processing\n",
    "x_T = x.T\n",
    "x_train = x_T[:, :2000]\n",
    "x_test = x_T[:, 2000:]\n",
    "y_train = y[:2000]\n",
    "y_test = y[2000:]\n",
    "\n",
    "# quantize the variable to simplify calculation\n",
    "def quantize(x):\n",
    "    x_quant = x.copy()\n",
    "    for i in range(len(x)):\n",
    "        col_median = np.median(x[i])\n",
    "        for j in range(len(x[0])):\n",
    "            if x[i][j] <= col_median:\n",
    "                x_quant[i][j] = 1\n",
    "            else:\n",
    "                x_quant[i][j] = 2\n",
    "    return x_quant\n",
    "\n",
    "x_quant_train = quantize(x_train)\n",
    "x_quant_test = quantize(x_test)"
   ]
  },
  {
   "cell_type": "code",
   "execution_count": 220,
   "metadata": {},
   "outputs": [],
   "source": [
    "def naive_bayes_classifiers(features, label, input_data):\n",
    "    label_prob = {}\n",
    "    label_space = list(set(label))\n",
    "    len_label = len(label_space)\n",
    "    len_features = len(features)\n",
    "    \n",
    "    # get the prior probability of different labels\n",
    "    for i in range(len_label):\n",
    "        label_prob[label_space[i]] = len(label[label == label_space[i]]) / len(label)\n",
    "\n",
    "    # get feature space, due to quantizing, this only includes 1 and 2\n",
    "    features_space = {}\n",
    "    for i in range(len_features):\n",
    "        features_space[i] = list(set(features[i]))\n",
    "\n",
    "    # get the probability of label given features\n",
    "    prb_feature_label = {}\n",
    "    for i in range(len_features):\n",
    "        for j in range(len(features_space[i])):  # here is should just be 2 (1 and 2)\n",
    "            for k in range(len_label):\n",
    "                label_select = label[label == label_space[k]]\n",
    "                label_index = np.where(label == label_space[k])\n",
    "                feature_obj = np.array(features[i])[label_index]\n",
    "                numerator = feature_obj[feature_obj == features_space[i][j]]\n",
    "                key_word = str(i) + str(features_space[i][j]) + str(label_space[k])\n",
    "                prb_feature_label[key_word] = len(numerator) / len(label_select)\n",
    "\n",
    "    # This is used to calculate the probabality of different labels givent feature info\n",
    "    prob_space = {}\n",
    "    temp = 1\n",
    "    for i in range(len_label):\n",
    "        prob_space[label_space[i]] = label_prob[label_space[i]]\n",
    "        for j in range(len(input_data)):\n",
    "            key_word = str(j) + str(input_data[j]) + str(label_space[i])\n",
    "            temp *= prb_feature_label[key_word]\n",
    "        prob_space[label_space[i]] = prob_space[label_space[i]] * temp\n",
    "        temp = 1\n",
    "\n",
    "    # return the label that has higher Probability\n",
    "    return max(prob_space, key = prob_space.get)"
   ]
  },
  {
   "cell_type": "code",
   "execution_count": 221,
   "metadata": {},
   "outputs": [
    {
     "data": {
      "text/plain": [
       "0.10649750096116878"
      ]
     },
     "execution_count": 221,
     "metadata": {},
     "output_type": "execute_result"
    }
   ],
   "source": [
    "# sanity test error check \n",
    "features = x_quant_train\n",
    "label = y_train\n",
    "error = 0\n",
    "for i in range(len(x_quant_test.T)):\n",
    "    input_data = x_quant_test.T[i]\n",
    "    output_label = naive_bayes_classifiers(features, label, input_data)\n",
    "    if output_label != y_test[i]:\n",
    "        error += 1\n",
    "\n",
    "error_rate = error / len(x_quant_test.T)\n",
    "error_rate"
   ]
  },
  {
   "cell_type": "code",
   "execution_count": 223,
   "metadata": {},
   "outputs": [
    {
     "name": "stdout",
     "output_type": "stream",
     "text": [
      "The test error rate is approximately 0.10649750096116878\n"
     ]
    }
   ],
   "source": [
    "print('The test error rate is approximately', error_rate)"
   ]
  },
  {
   "cell_type": "markdown",
   "metadata": {},
   "source": [
    "### Question 4 -- Logistic Regression"
   ]
  },
  {
   "cell_type": "code",
   "execution_count": 224,
   "metadata": {},
   "outputs": [
    {
     "data": {
      "image/png": "[encoded data removed]",
      "text/plain": [
       "<Figure size 432x288 with 1 Axes>"
      ]
     },
     "metadata": {
      "needs_background": "light"
     },
     "output_type": "display_data"
    },
    {
     "name": "stdout",
     "output_type": "stream",
     "text": [
      "(784, 3000)\n",
      "(1, 3000)\n"
     ]
    }
   ],
   "source": [
    "import numpy as np\n",
    "import scipy.io as sio\n",
    "import matplotlib.pyplot as plt\n",
    "\n",
    "mnist_49_3000 = sio.loadmat('mnist_49_3000.mat')\n",
    "x = mnist_49_3000['x']\n",
    "y = mnist_49_3000['y']\n",
    "d, n = x.shape\n",
    "\n",
    "i = 0  # Index of the image to be visualized\n",
    "plt.imshow(np.reshape(x[:, i], (int(np.sqrt(d)), int(np.sqrt(d)))))\n",
    "plt.show()\n",
    "\n",
    "print(x.shape)\n",
    "print(y.shape)\n",
    "\n",
    "# process x, y so that they could be easily used later\n",
    "x = np.concatenate((np.array([1]*len(x[0])).reshape((1,-1)), np.array(x)), axis= 0)\n",
    "y = y[0]"
   ]
  },
  {
   "cell_type": "code",
   "execution_count": 227,
   "metadata": {},
   "outputs": [],
   "source": [
    "def sigmoid(t):\n",
    "    return np.log(1 + np.exp(-t))"
   ]
  },
  {
   "cell_type": "code",
   "execution_count": 228,
   "metadata": {},
   "outputs": [],
   "source": [
    "def objective(x, y, theta, Lambda):\n",
    "    # Objective function\n",
    "    sum_term = 0\n",
    "    for i in range(len(x[0])):\n",
    "        sum_term += sigmoid(y[i] * theta.dot(x[:,i]))\n",
    "    return sum_term + Lambda * theta.dot(theta)"
   ]
  },
  {
   "cell_type": "code",
   "execution_count": 229,
   "metadata": {},
   "outputs": [],
   "source": [
    "def gradient(x, y, theta, Lambda): \n",
    "    # gradient of theta\n",
    "    n = len(x[0])\n",
    "    sum_term = np.sum([- y[i] * x[:,i] / (1 + np.exp(y[i] * theta.dot(x[:, i]))) for i in range(n)], axis = 0)\n",
    "    return sum_term + 2 * Lambda * theta"
   ]
  },
  {
   "cell_type": "code",
   "execution_count": 233,
   "metadata": {},
   "outputs": [],
   "source": [
    "def hessian(x, y, theta, Lambda):\n",
    "    # hessian of theta\n",
    "    sum_term = np.sum([(np.exp(- y[i] * theta.dot(x[:,i])) / (1 + np.exp(- y[i] * theta.dot(x[:,i])))**2) * x[:,i].reshape((-1, 1)).dot(x[:, i].reshape((1, -1))) * y[i]**2 for i in range(len(x[0]))], axis = 0)\n",
    "    return sum_term + 2 * Lambda * np.eye((len(x)))"
   ]
  },
  {
   "cell_type": "code",
   "execution_count": 236,
   "metadata": {},
   "outputs": [],
   "source": [
    "# train-test split\n",
    "x_train = x[:,:2000]\n",
    "x_test =  x[:,2000:]\n",
    "y_train = y[:2000]\n",
    "y_test = y[2000:]"
   ]
  },
  {
   "cell_type": "code",
   "execution_count": 237,
   "metadata": {},
   "outputs": [
    {
     "name": "stdout",
     "output_type": "stream",
     "text": [
      "Iteration: 1 , Loss: 485.05568605001065\n",
      "Iteration: 2 , Loss: 343.20225081950514\n",
      "Iteration: 3 , Loss: 310.5342113909063\n",
      "Iteration: 4 , Loss: 307.6847385748812\n",
      "Iteration: 5 , Loss: 307.6554674747582\n",
      "Iteration: 6 , Loss: 307.65546352880267\n",
      "==========================================\n",
      "Total number of iterations is 6 , loss is 307.65546352880267\n",
      "After 6 iterations, error rate 0.048\n"
     ]
    }
   ],
   "source": [
    "def newton(theta, x, y, Lambda, epsilon):\n",
    "    obj_curr = objective(x, y, theta, Lambda)\n",
    "    iterations = 0\n",
    "    accuracy = float('inf')\n",
    "    while accuracy > epsilon:\n",
    "        theta = theta - np.matmul(np.linalg.inv(hessian(x, y, theta, Lambda)), gradient(x, y, theta, Lambda))\n",
    "        iterations += 1\n",
    "        obj_next = objective(x, y, theta, Lambda)\n",
    "        print('Iteration:', iterations, ', Loss:', obj_next)\n",
    "        accuracy = np.abs(obj_curr - obj_next) / obj_curr\n",
    "        obj_curr = obj_next\n",
    "    print(\"==========================================\")\n",
    "    print('Total number of iterations is', iterations, ', loss is', obj_curr)\n",
    "    return iterations, obj_curr, theta\n",
    "\n",
    "theta = np.array([0] * len(x_train))\n",
    "Lambda = 10\n",
    "epsilon = 1e-6\n",
    "iterations, obj_curr, theta = newton(theta, x_train, y_train, Lambda, epsilon)\n",
    "\n",
    "# predict test set\n",
    "predict = 1 / (1 + np.exp(- theta.dot(x_test)))\n",
    "predict[np.where(predict >= 0.5)] = 1\n",
    "predict[np.where(predict < 0.5)] = -1\n",
    "\n",
    "error_rate = np.mean(predict != y_test)\n",
    "print('After', iterations, 'iterations, error rate', error_rate)"
   ]
  },
  {
   "cell_type": "code",
   "execution_count": 243,
   "metadata": {},
   "outputs": [
    {
     "data": {
      "text/plain": [
       "array([ 0, 26, 27, 28, 29, 30, 31, 32, 33, 34, 25, 35, 37, 38, 39, 40, 41,\n",
       "       42, 43, 44, 45, 36, 24, 23, 22,  1,  2,  3,  4,  5,  6,  7,  8,  9,\n",
       "       10, 11, 12, 13, 14, 15, 16, 17, 18, 19, 20, 21, 46, 47])"
      ]
     },
     "execution_count": 243,
     "metadata": {},
     "output_type": "execute_result"
    }
   ],
   "source": [
    "# get the position of wrong predict\n",
    "predict_wrong = np.where(predict != y_test)[0]\n",
    "predict_wrong = predict[np.where(predict != y_test)[0]]\n",
    "predict_wrong = np.argsort(np.abs(predict_wrong) - 0.5)\n",
    "predict_wrong"
   ]
  },
  {
   "cell_type": "code",
   "execution_count": 245,
   "metadata": {
    "scrolled": true
   },
   "outputs": [
    {
     "data": {
      "image/png": "[encoded data removed]",
      "text/plain": [
       "<Figure size 432x288 with 20 Axes>"
      ]
     },
     "metadata": {
      "needs_background": "light"
     },
     "output_type": "display_data"
    }
   ],
   "source": [
    "for i in range(1, 21): \n",
    "    ax = plt.subplot(4,5,i)\n",
    "    position = predict_wrong[predict_wrong[-i]] \n",
    "    title = 0\n",
    "    if y_test[position] == 1:\n",
    "        title = 9 \n",
    "    else:\n",
    "        title = 4\n",
    "    plt.title(title)\n",
    "    plt.subplots_adjust(hspace=0.8)\n",
    "    ax.imshow(np.reshape(x_test[1:, position], (28,28)))"
   ]
  },
  {
   "cell_type": "markdown",
   "metadata": {},
   "source": [
    "__Remark:__  \n",
    "In this case, I applied the degree of confidence abs(predict - 0.5) since it is closer to our intuition in terms of probability, which is between 0 and 1. When it is closer to 1 or 0, they will probably show good performance, while it may have trouble deciding which way to go when it is near 0.5."
   ]
  },
  {
   "cell_type": "code",
   "execution_count": null,
   "metadata": {},
   "outputs": [],
   "source": []
  }
 ],
 "metadata": {
  "kernelspec": {
   "display_name": "Python 3",
   "language": "python",
   "name": "python3"
  },
  "language_info": {
   "codemirror_mode": {
    "name": "ipython",
    "version": 3
   },
   "file_extension": ".py",
   "mimetype": "text/x-python",
   "name": "python",
   "nbconvert_exporter": "python",
   "pygments_lexer": "ipython3",
   "version": "3.7.3"
  }
 },
 "nbformat": 4,
 "nbformat_minor": 2
}
